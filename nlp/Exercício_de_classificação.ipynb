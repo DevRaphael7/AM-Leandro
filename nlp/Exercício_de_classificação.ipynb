{
  "nbformat": 4,
  "nbformat_minor": 0,
  "metadata": {
    "colab": {
      "provenance": []
    },
    "kernelspec": {
      "name": "python3",
      "display_name": "Python 3"
    },
    "language_info": {
      "name": "python"
    }
  },
  "cells": [
    {
      "cell_type": "code",
      "execution_count": 111,
      "metadata": {
        "id": "oJRjUwIVRTJ8"
      },
      "outputs": [],
      "source": [
        "from sklearn.datasets import fetch_20newsgroups # dataset de texto para classificação contendo 20 classes\n",
        "import pandas as pd \n",
        "from sklearn.feature_extraction.text import CountVectorizer, TfidfTransformer # carrega Vectorizer e TFIDF\n",
        "from sklearn.naive_bayes import MultinomialNB # algoritmo do Naive Bayes\n",
        "from sklearn.pipeline import Pipeline # Cria pipeline contendo todas as transformações e modelo\n",
        "from nltk.stem.snowball import SnowballStemmer # Função que retorna a palavra a sua raiz\n",
        "import numpy as np\n",
        "from sklearn.linear_model import SGDClassifier # Algoritmo Gradient Descendente Stocastico\n",
        "from sklearn.model_selection import GridSearchCV\n",
        "import nltk \n",
        "from sklearn.metrics import f1_score, accuracy_score, confusion_matrix, classification_report, ConfusionMatrixDisplay\n",
        "import warnings\n",
        "import matplotlib.pyplot as plt \n",
        "\n",
        "warnings.simplefilter('ignore')\n",
        "#nltk.download()"
      ]
    },
    {
      "cell_type": "code",
      "source": [
        "newsgroups = fetch_20newsgroups(subset='train') # Carrega o dataset de treinamento do fetch 20"
      ],
      "metadata": {
        "id": "4f75N9HdbZ5w"
      },
      "execution_count": 112,
      "outputs": []
    },
    {
      "cell_type": "code",
      "source": [
        "list(newsgroups.target_names) # retorna as classes disponíveis para treinamento"
      ],
      "metadata": {
        "colab": {
          "base_uri": "https://localhost:8080/"
        },
        "id": "ARWF8Y8bbe13",
        "outputId": "943402cc-213d-49b8-a74d-40cd3e1cd51b"
      },
      "execution_count": 113,
      "outputs": [
        {
          "output_type": "execute_result",
          "data": {
            "text/plain": [
              "['alt.atheism',\n",
              " 'comp.graphics',\n",
              " 'comp.os.ms-windows.misc',\n",
              " 'comp.sys.ibm.pc.hardware',\n",
              " 'comp.sys.mac.hardware',\n",
              " 'comp.windows.x',\n",
              " 'misc.forsale',\n",
              " 'rec.autos',\n",
              " 'rec.motorcycles',\n",
              " 'rec.sport.baseball',\n",
              " 'rec.sport.hockey',\n",
              " 'sci.crypt',\n",
              " 'sci.electronics',\n",
              " 'sci.med',\n",
              " 'sci.space',\n",
              " 'soc.religion.christian',\n",
              " 'talk.politics.guns',\n",
              " 'talk.politics.mideast',\n",
              " 'talk.politics.misc',\n",
              " 'talk.religion.misc']"
            ]
          },
          "metadata": {},
          "execution_count": 113
        }
      ]
    },
    {
      "cell_type": "code",
      "source": [
        "categories = [\n",
        "    'comp.graphics', \n",
        "    'comp.os.ms-windows.misc', \n",
        "    'comp.sys.ibm.pc.hardware', \n",
        "    'comp.sys.mac.hardware', \n",
        "    'comp.windows.x', \n",
        "\n",
        "    'talk.politics.guns',\n",
        "    'talk.politics.mideast',\n",
        "    'talk.politics.misc',\n",
        "    'talk.religion.misc',\n",
        "    'soc.religion.christian'\n",
        "]"
      ],
      "metadata": {
        "id": "-pyDLA6Kbwr2"
      },
      "execution_count": null,
      "outputs": []
    },
    {
      "cell_type": "code",
      "source": [
        "# Vai carregar as 10 classes para treinamento.\n",
        "\n",
        "df_train = fetch_20newsgroups(subset='train', categories=categories, shuffle=True, random_state=42)\n",
        "df_test = fetch_20newsgroups(subset='test', categories=categories, shuffle=True)"
      ],
      "metadata": {
        "id": "joMBy2a9dRC4"
      },
      "execution_count": 117,
      "outputs": []
    },
    {
      "cell_type": "markdown",
      "source": [
        "#### **Feature Enginnering** "
      ],
      "metadata": {
        "id": "QA1KfCxIdidX"
      }
    },
    {
      "cell_type": "code",
      "source": [
        "count_vect = CountVectorizer()\n",
        "X_train_counts = count_vect.fit_transform(df_train.data)\n",
        "X_train_counts.shape"
      ],
      "metadata": {
        "colab": {
          "base_uri": "https://localhost:8080/"
        },
        "id": "UxV-YvrOdq3A",
        "outputId": "8f907e56-4808-4334-ab05-24675ace971c"
      },
      "execution_count": null,
      "outputs": [
        {
          "output_type": "execute_result",
          "data": {
            "text/plain": [
              "(5487, 94318)"
            ]
          },
          "metadata": {},
          "execution_count": 90
        }
      ]
    },
    {
      "cell_type": "code",
      "source": [
        "# TF-IDF \n",
        "tfidf_transformer = TfidfTransformer() \n",
        "X_train_tfidf = tfidf_transformer.fit_transform(X_train_counts)"
      ],
      "metadata": {
        "id": "MN_MEL7Idccn"
      },
      "execution_count": null,
      "outputs": []
    },
    {
      "cell_type": "markdown",
      "source": [
        "# Abordagem I\n",
        "\n",
        "### Instancia o algoritmo Naive Bayes para treinamento"
      ],
      "metadata": {
        "id": "Uqqs0O9qcyHp"
      }
    },
    {
      "cell_type": "code",
      "source": [
        "clf = MultinomialNB()\n",
        "clf.fit(X_train_tfidf, df_train.target)"
      ],
      "metadata": {
        "colab": {
          "base_uri": "https://localhost:8080/",
          "height": 75
        },
        "id": "LhnmDDQ1cxKy",
        "outputId": "770e4573-a5ef-48d2-ea03-f90fd7b4f954"
      },
      "execution_count": null,
      "outputs": [
        {
          "output_type": "execute_result",
          "data": {
            "text/plain": [
              "MultinomialNB()"
            ],
            "text/html": [
              "<style>#sk-container-id-4 {color: black;background-color: white;}#sk-container-id-4 pre{padding: 0;}#sk-container-id-4 div.sk-toggleable {background-color: white;}#sk-container-id-4 label.sk-toggleable__label {cursor: pointer;display: block;width: 100%;margin-bottom: 0;padding: 0.3em;box-sizing: border-box;text-align: center;}#sk-container-id-4 label.sk-toggleable__label-arrow:before {content: \"▸\";float: left;margin-right: 0.25em;color: #696969;}#sk-container-id-4 label.sk-toggleable__label-arrow:hover:before {color: black;}#sk-container-id-4 div.sk-estimator:hover label.sk-toggleable__label-arrow:before {color: black;}#sk-container-id-4 div.sk-toggleable__content {max-height: 0;max-width: 0;overflow: hidden;text-align: left;background-color: #f0f8ff;}#sk-container-id-4 div.sk-toggleable__content pre {margin: 0.2em;color: black;border-radius: 0.25em;background-color: #f0f8ff;}#sk-container-id-4 input.sk-toggleable__control:checked~div.sk-toggleable__content {max-height: 200px;max-width: 100%;overflow: auto;}#sk-container-id-4 input.sk-toggleable__control:checked~label.sk-toggleable__label-arrow:before {content: \"▾\";}#sk-container-id-4 div.sk-estimator input.sk-toggleable__control:checked~label.sk-toggleable__label {background-color: #d4ebff;}#sk-container-id-4 div.sk-label input.sk-toggleable__control:checked~label.sk-toggleable__label {background-color: #d4ebff;}#sk-container-id-4 input.sk-hidden--visually {border: 0;clip: rect(1px 1px 1px 1px);clip: rect(1px, 1px, 1px, 1px);height: 1px;margin: -1px;overflow: hidden;padding: 0;position: absolute;width: 1px;}#sk-container-id-4 div.sk-estimator {font-family: monospace;background-color: #f0f8ff;border: 1px dotted black;border-radius: 0.25em;box-sizing: border-box;margin-bottom: 0.5em;}#sk-container-id-4 div.sk-estimator:hover {background-color: #d4ebff;}#sk-container-id-4 div.sk-parallel-item::after {content: \"\";width: 100%;border-bottom: 1px solid gray;flex-grow: 1;}#sk-container-id-4 div.sk-label:hover label.sk-toggleable__label {background-color: #d4ebff;}#sk-container-id-4 div.sk-serial::before {content: \"\";position: absolute;border-left: 1px solid gray;box-sizing: border-box;top: 0;bottom: 0;left: 50%;z-index: 0;}#sk-container-id-4 div.sk-serial {display: flex;flex-direction: column;align-items: center;background-color: white;padding-right: 0.2em;padding-left: 0.2em;position: relative;}#sk-container-id-4 div.sk-item {position: relative;z-index: 1;}#sk-container-id-4 div.sk-parallel {display: flex;align-items: stretch;justify-content: center;background-color: white;position: relative;}#sk-container-id-4 div.sk-item::before, #sk-container-id-4 div.sk-parallel-item::before {content: \"\";position: absolute;border-left: 1px solid gray;box-sizing: border-box;top: 0;bottom: 0;left: 50%;z-index: -1;}#sk-container-id-4 div.sk-parallel-item {display: flex;flex-direction: column;z-index: 1;position: relative;background-color: white;}#sk-container-id-4 div.sk-parallel-item:first-child::after {align-self: flex-end;width: 50%;}#sk-container-id-4 div.sk-parallel-item:last-child::after {align-self: flex-start;width: 50%;}#sk-container-id-4 div.sk-parallel-item:only-child::after {width: 0;}#sk-container-id-4 div.sk-dashed-wrapped {border: 1px dashed gray;margin: 0 0.4em 0.5em 0.4em;box-sizing: border-box;padding-bottom: 0.4em;background-color: white;}#sk-container-id-4 div.sk-label label {font-family: monospace;font-weight: bold;display: inline-block;line-height: 1.2em;}#sk-container-id-4 div.sk-label-container {text-align: center;}#sk-container-id-4 div.sk-container {/* jupyter's `normalize.less` sets `[hidden] { display: none; }` but bootstrap.min.css set `[hidden] { display: none !important; }` so we also need the `!important` here to be able to override the default hidden behavior on the sphinx rendered scikit-learn.org. See: https://github.com/scikit-learn/scikit-learn/issues/21755 */display: inline-block !important;position: relative;}#sk-container-id-4 div.sk-text-repr-fallback {display: none;}</style><div id=\"sk-container-id-4\" class=\"sk-top-container\"><div class=\"sk-text-repr-fallback\"><pre>MultinomialNB()</pre><b>In a Jupyter environment, please rerun this cell to show the HTML representation or trust the notebook. <br />On GitHub, the HTML representation is unable to render, please try loading this page with nbviewer.org.</b></div><div class=\"sk-container\" hidden><div class=\"sk-item\"><div class=\"sk-estimator sk-toggleable\"><input class=\"sk-toggleable__control sk-hidden--visually\" id=\"sk-estimator-id-4\" type=\"checkbox\" checked><label for=\"sk-estimator-id-4\" class=\"sk-toggleable__label sk-toggleable__label-arrow\">MultinomialNB</label><div class=\"sk-toggleable__content\"><pre>MultinomialNB()</pre></div></div></div></div></div>"
            ]
          },
          "metadata": {},
          "execution_count": 92
        }
      ]
    },
    {
      "cell_type": "markdown",
      "source": [
        "### Pipeline"
      ],
      "metadata": {
        "id": "gh-R9UTkdyVQ"
      }
    },
    {
      "cell_type": "code",
      "source": [
        "clf_1 = Pipeline([\n",
        "    ('vect', CountVectorizer()),\n",
        "    ('tfidf', TfidfTransformer()),\n",
        "    ('clf', MultinomialNB())])"
      ],
      "metadata": {
        "id": "oDw-YEG9d1Bm"
      },
      "execution_count": null,
      "outputs": []
    },
    {
      "cell_type": "markdown",
      "source": [
        "#### Realiza o treinamento do modelo no pipeline"
      ],
      "metadata": {
        "id": "wvpSXqDld8De"
      }
    },
    {
      "cell_type": "code",
      "source": [
        "clf_trained = clf_1.fit(df_train.data, df_train.target)"
      ],
      "metadata": {
        "id": "C5kMJS-Ad-iV"
      },
      "execution_count": null,
      "outputs": []
    },
    {
      "cell_type": "markdown",
      "source": [
        "#### **Tuning de parametros**\n",
        "\n",
        "#### Modelo usando **Naive bayes** com Grid Search"
      ],
      "metadata": {
        "id": "45MIwqK0ht4V"
      }
    },
    {
      "cell_type": "code",
      "source": [
        "parameters = {'vect__ngram_range': [(1, 1), (1, 2)], 'tfidf__use_idf': (True, False), 'clf__alpha': (1e-2, 1e-3)}"
      ],
      "metadata": {
        "id": "yAFnH-d9h5s9"
      },
      "execution_count": null,
      "outputs": []
    },
    {
      "cell_type": "code",
      "source": [
        "gs_clf = GridSearchCV(clf_trained, parameters, n_jobs=-1)\n",
        "# treinamento do modelo \n",
        "gs_clf = gs_clf.fit(df_train.data, df_train.target)"
      ],
      "metadata": {
        "id": "vS_cgtAkh7U0"
      },
      "execution_count": null,
      "outputs": []
    },
    {
      "cell_type": "code",
      "source": [
        "print(gs_clf.best_score_)\n",
        "gs_clf.best_params_"
      ],
      "metadata": {
        "colab": {
          "base_uri": "https://localhost:8080/"
        },
        "id": "FIflVMcWit5w",
        "outputId": "e087a2f2-ed82-49d0-b030-5baa17476719"
      },
      "execution_count": null,
      "outputs": [
        {
          "output_type": "stream",
          "name": "stdout",
          "text": [
            "0.9205410350799414\n"
          ]
        },
        {
          "output_type": "execute_result",
          "data": {
            "text/plain": [
              "{'clf__alpha': 0.001, 'tfidf__use_idf': True, 'vect__ngram_range': (1, 2)}"
            ]
          },
          "metadata": {},
          "execution_count": 97
        }
      ]
    },
    {
      "cell_type": "markdown",
      "source": [
        "#### Faz a predição dos dados de teste"
      ],
      "metadata": {
        "id": "4Dqyn2I0juI9"
      }
    },
    {
      "cell_type": "code",
      "source": [
        "pred = clf_trained.predict(df_test.data)"
      ],
      "metadata": {
        "id": "d2pAjVO8jsW6"
      },
      "execution_count": null,
      "outputs": []
    },
    {
      "cell_type": "code",
      "source": [
        "acc = np.mean(pred == df_test.target)\n",
        "print('>>>> Acurácia: ', acc)"
      ],
      "metadata": {
        "colab": {
          "base_uri": "https://localhost:8080/"
        },
        "id": "Uc--Q8M5kFYY",
        "outputId": "920825ba-129d-43aa-ab10-9b14880a2f8b"
      },
      "execution_count": null,
      "outputs": [
        {
          "output_type": "stream",
          "name": "stdout",
          "text": [
            ">>>> Acurácia:  0.7567049808429118\n"
          ]
        }
      ]
    },
    {
      "cell_type": "code",
      "source": [
        "creport = classification_report(df_test.target, pred, target_names=df_test.target_names)\n",
        "print(creport)"
      ],
      "metadata": {
        "colab": {
          "base_uri": "https://localhost:8080/"
        },
        "id": "zgkTgcp1kM9v",
        "outputId": "eafdcf1f-d724-4444-c5b9-42675d08957e"
      },
      "execution_count": null,
      "outputs": [
        {
          "output_type": "stream",
          "name": "stdout",
          "text": [
            "                          precision    recall  f1-score   support\n",
            "\n",
            "           comp.graphics       0.83      0.72      0.77       389\n",
            " comp.os.ms-windows.misc       0.81      0.67      0.73       394\n",
            "comp.sys.ibm.pc.hardware       0.74      0.85      0.79       392\n",
            "   comp.sys.mac.hardware       0.88      0.83      0.85       385\n",
            "          comp.windows.x       0.89      0.79      0.84       395\n",
            "  soc.religion.christian       0.53      0.99      0.69       398\n",
            "      talk.politics.guns       0.64      0.96      0.77       364\n",
            "   talk.politics.mideast       0.95      0.92      0.93       376\n",
            "      talk.politics.misc       0.97      0.42      0.59       310\n",
            "      talk.religion.misc       1.00      0.15      0.26       251\n",
            "\n",
            "                accuracy                           0.76      3654\n",
            "               macro avg       0.82      0.73      0.72      3654\n",
            "            weighted avg       0.81      0.76      0.74      3654\n",
            "\n"
          ]
        }
      ]
    },
    {
      "cell_type": "markdown",
      "source": [
        "# Abordagem II"
      ],
      "metadata": {
        "id": "4jN9FgMletgT"
      }
    },
    {
      "cell_type": "code",
      "source": [
        "clf_2 = Pipeline([\n",
        "    ('vect', CountVectorizer()), \n",
        "    ('tfidf', TfidfTransformer()),\n",
        "    ('clf-svm', SGDClassifier(loss='hinge', penalty='l2', alpha=1e-3, max_iter=25, random_state=42))])"
      ],
      "metadata": {
        "id": "Dae0CLQ6e5I5"
      },
      "execution_count": null,
      "outputs": []
    },
    {
      "cell_type": "code",
      "source": [
        "# Treinando o modelo na abordagem dois\n",
        "svm_trained = clf_2.fit(df_train.data, df_train.target)"
      ],
      "metadata": {
        "id": "KzuJAVrZfAdw"
      },
      "execution_count": 118,
      "outputs": []
    },
    {
      "cell_type": "code",
      "source": [
        "pred = svm_trained.predict(df_test.data)"
      ],
      "metadata": {
        "id": "qtkeI8kifgx3"
      },
      "execution_count": null,
      "outputs": []
    },
    {
      "cell_type": "markdown",
      "source": [
        "### Acurácia"
      ],
      "metadata": {
        "id": "VvEP0hSKf8yo"
      }
    },
    {
      "cell_type": "code",
      "source": [
        "acc = np.mean(pred == df_test.target)\n",
        "print(f'Acurácia: {acc}')"
      ],
      "metadata": {
        "colab": {
          "base_uri": "https://localhost:8080/"
        },
        "id": "tfsfMm9Jf4b1",
        "outputId": "64ba9a4a-ebd5-40d7-c97e-dadc9ccf7600"
      },
      "execution_count": null,
      "outputs": [
        {
          "output_type": "stream",
          "name": "stdout",
          "text": [
            "Acurácia: 0.8070607553366174\n"
          ]
        }
      ]
    },
    {
      "cell_type": "markdown",
      "source": [
        "#### **Tuning de parametros**\n",
        "\n",
        "#### Modelo usando **SGD** com Grid Search"
      ],
      "metadata": {
        "id": "XyDGA7l9lvaC"
      }
    },
    {
      "cell_type": "code",
      "source": [
        "parameters_svm = {'vect__ngram_range': [(1, 1), (1, 2)], 'tfidf__use_idf': (True, False),'clf-svm__alpha': (1e-2, 1e-3)}"
      ],
      "metadata": {
        "id": "_jBn4QNnlx52"
      },
      "execution_count": null,
      "outputs": []
    },
    {
      "cell_type": "code",
      "source": [
        "gs_clf_svm = GridSearchCV(svm_trained, parameters_svm, n_jobs=-1)\n",
        "gs_clf_svm = gs_clf_svm.fit(df_train.data, df_train.target)"
      ],
      "metadata": {
        "id": "pMJ3KjOUmbBr"
      },
      "execution_count": 106,
      "outputs": []
    },
    {
      "cell_type": "code",
      "source": [
        "print(gs_clf_svm.best_score_)\n",
        "gs_clf_svm.best_params_"
      ],
      "metadata": {
        "id": "_RCPWAx5meeJ",
        "colab": {
          "base_uri": "https://localhost:8080/"
        },
        "outputId": "a24991db-3eb2-40f5-e964-64378459cf67"
      },
      "execution_count": 107,
      "outputs": [
        {
          "metadata": {
            "tags": null
          },
          "name": "stdout",
          "output_type": "stream",
          "text": [
            "0.89921876686376\n"
          ]
        },
        {
          "data": {
            "text/plain": [
              "{'clf-svm__alpha': 0.001, 'tfidf__use_idf': True, 'vect__ngram_range': (1, 2)}"
            ]
          },
          "execution_count": 107,
          "metadata": {},
          "output_type": "execute_result"
        }
      ]
    },
    {
      "cell_type": "code",
      "source": [
        "pred = gs_clf_svm.predict(df_test.data)"
      ],
      "metadata": {
        "id": "u0Qxmg0GnYjk"
      },
      "execution_count": 108,
      "outputs": []
    },
    {
      "cell_type": "code",
      "source": [
        "acc = np.mean(pred == df_test.target)\n",
        "print(f'Acurácia: {acc}')"
      ],
      "metadata": {
        "id": "d1qzkktIndE5",
        "colab": {
          "base_uri": "https://localhost:8080/"
        },
        "outputId": "32ac264a-39c2-4e71-8f04-abe989d67f81"
      },
      "execution_count": 109,
      "outputs": [
        {
          "output_type": "stream",
          "name": "stdout",
          "text": [
            "Acurácia: 0.8147235905856596\n"
          ]
        }
      ]
    },
    {
      "cell_type": "code",
      "source": [
        "creport = classification_report(df_test.target, pred, target_names=df_test.target_names)\n",
        "print(creport)"
      ],
      "metadata": {
        "id": "xTG2NF1cnqNj",
        "colab": {
          "base_uri": "https://localhost:8080/"
        },
        "outputId": "929ab1d6-cc97-4d84-ed83-93827d6b10ca"
      },
      "execution_count": 110,
      "outputs": [
        {
          "metadata": {
            "tags": null
          },
          "name": "stdout",
          "output_type": "stream",
          "text": [
            "                          precision    recall  f1-score   support\n",
            "\n",
            "           comp.graphics       0.80      0.77      0.78       389\n",
            " comp.os.ms-windows.misc       0.76      0.79      0.77       394\n",
            "comp.sys.ibm.pc.hardware       0.81      0.78      0.80       392\n",
            "   comp.sys.mac.hardware       0.86      0.86      0.86       385\n",
            "          comp.windows.x       0.85      0.79      0.82       395\n",
            "  soc.religion.christian       0.79      0.97      0.87       398\n",
            "      talk.politics.guns       0.70      0.97      0.81       364\n",
            "   talk.politics.mideast       0.93      0.95      0.94       376\n",
            "      talk.politics.misc       0.85      0.61      0.71       310\n",
            "      talk.religion.misc       0.90      0.55      0.68       251\n",
            "\n",
            "                accuracy                           0.81      3654\n",
            "               macro avg       0.83      0.80      0.80      3654\n",
            "            weighted avg       0.82      0.81      0.81      3654\n",
            "\n"
          ]
        }
      ]
    }
  ]
}